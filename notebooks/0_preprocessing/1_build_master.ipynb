{
 "cells": [
  {
   "cell_type": "code",
   "execution_count": 1,
   "metadata": {},
   "outputs": [],
   "source": [
    "import pandas as pd\n",
    "import numpy as np\n",
    "import geopandas as gpd"
   ]
  },
  {
   "cell_type": "code",
   "execution_count": 2,
   "metadata": {},
   "outputs": [],
   "source": [
    "viewmetrics = pd.read_pickle('../../geodata/results/00_building_level_view_metrics.pkl')\n",
    "gdf = gpd.GeoDataFrame(data = viewmetrics, geometry=gpd.points_from_xy(x = viewmetrics.FassPktX,y = viewmetrics.FassPktY), crs = 2056)"
   ]
  },
  {
   "cell_type": "code",
   "execution_count": 5,
   "metadata": {},
   "outputs": [],
   "source": [
    "#import geodata\n",
    "ch_borders = gpd.read_file('../../geodata/ch_districts/ch_full.gpkg')\n",
    "ch_income  = gpd.read_file('../../geodata/ch_districts/ch_income_per_commune_2018.gpkg')\n",
    "ch_agglo   = gpd.read_file('../../geodata/ch_agglo/swiss_urban_agglomerations.gpkg')\n",
    "ch_muni    = gpd.read_file('../../geodata/ch_gemeindetypen/ch_gemeindetypen_00_merged.gpkg') \n",
    "\n"
   ]
  },
  {
   "cell_type": "code",
   "execution_count": 6,
   "metadata": {},
   "outputs": [],
   "source": [
    "#income in units of CHF 1,000\n",
    "ch_income['net_income_ptp']  = (ch_income.net_income_ptp / 10**3).round(2)\n",
    "ch_income['taxable_income_ptp']  = (ch_income.taxable_income_ptp / 10**3).round(2)\n",
    "\n",
    "#update agglo names\n",
    "ch_agglo['Agglo_Name'] = ch_agglo.Agglo_Name.str.replace('\\xa0','')"
   ]
  },
  {
   "cell_type": "code",
   "execution_count": 7,
   "metadata": {},
   "outputs": [],
   "source": [
    "income_cols = ch_income.columns[-8:-1].tolist()"
   ]
  },
  {
   "cell_type": "code",
   "execution_count": 8,
   "metadata": {},
   "outputs": [
    {
     "name": "stdout",
     "output_type": "stream",
     "text": [
      "Num points outside of national bounday: 23876\n"
     ]
    }
   ],
   "source": [
    "#remove points outside of national boundary\n",
    "\n",
    "poly_idx, pt_idx = gdf.geometry.sindex.query_bulk(ch_borders.dissolve().geometry, predicate = 'contains')\n",
    "print(f'Num points outside of national bounday: {len(np.setdiff1d(range(0,gdf.shape[0]), pt_idx))}')"
   ]
  },
  {
   "cell_type": "code",
   "execution_count": 9,
   "metadata": {},
   "outputs": [
    {
     "name": "stdout",
     "output_type": "stream",
     "text": [
      "Num points in Lichenstein: 20398\n"
     ]
    }
   ],
   "source": [
    "#remove points outside of Lichenstein\n",
    "poly_idx, foriegn_idx = gdf.geometry.sindex.query_bulk(ch_agglo.query('Land == \"LI\"').dissolve().geometry, predicate = 'contains')\n",
    "ch_idx = np.setdiff1d(range(0,gdf.shape[0]), foriegn_idx)\n",
    "print(f'Num points in Lichenstein: {len(foriegn_idx)}')"
   ]
  },
  {
   "cell_type": "code",
   "execution_count": 10,
   "metadata": {},
   "outputs": [],
   "source": [
    "# merge income and agglomeration datasets\n",
    "ch_income_w_agglo = pd.merge(ch_income, ch_agglo[['Gem_No','Name','Agglo_Name']], left_on = 'GMDNR', right_on = 'Gem_No', how = 'left')"
   ]
  },
  {
   "cell_type": "code",
   "execution_count": 11,
   "metadata": {},
   "outputs": [],
   "source": [
    "#limit points to outside of LI, assume\n",
    "dat_ = gdf.iloc[ch_idx,:]"
   ]
  },
  {
   "cell_type": "code",
   "execution_count": 12,
   "metadata": {},
   "outputs": [
    {
     "name": "stdout",
     "output_type": "stream",
     "text": [
      "CPU times: total: 19.8 s\n",
      "Wall time: 19.8 s\n"
     ]
    }
   ],
   "source": [
    "%%time\n",
    "\n",
    "#Spatial Join with Income + Agglo GeoFrame\n",
    "dat_2 = gpd.sjoin(ch_income_w_agglo[income_cols +['GMDNAME','GMDNR','KTNR','AREA_HA','Name','Agglo_Name','geometry']],\n",
    "                  dat_,\n",
    "                  how='right',\n",
    "                        )\n",
    "dat_2.drop('index_left', axis=1, inplace=True)"
   ]
  },
  {
   "cell_type": "code",
   "execution_count": 13,
   "metadata": {},
   "outputs": [
    {
     "name": "stdout",
     "output_type": "stream",
     "text": [
      "CPU times: total: 7.97 s\n",
      "Wall time: 7.97 s\n"
     ]
    }
   ],
   "source": [
    "%%time\n",
    "\n",
    "#Spatial Join with Income GeoFrame\n",
    "missing_income = gpd.sjoin_nearest(ch_income_w_agglo[income_cols +['GMDNAME','GMDNR','KTNR','AREA_HA','Name','Agglo_Name','geometry']],\n",
    "                          dat_.loc[dat_2.GMDNAME.isnull(),:],\n",
    "                          how='right',\n",
    "                          max_distance=1500, distance_col='dist'\n",
    "                         )\n",
    "\n",
    "missing_income.drop('index_left', axis=1, inplace=True)\n",
    "missing_income = missing_income[~missing_income.index.duplicated(keep='first')]\n",
    "dat_2 = pd.concat([dat_2.loc[~dat_2.GMDNAME.isnull(),:], missing_income], axis = 0)                   "
   ]
  },
  {
   "cell_type": "code",
   "execution_count": 14,
   "metadata": {},
   "outputs": [
    {
     "name": "stdout",
     "output_type": "stream",
     "text": [
      "CPU times: total: 24.1 s\n",
      "Wall time: 24.1 s\n"
     ]
    }
   ],
   "source": [
    "%%time\n",
    "#Spatial Join with TYP00 GeoFrame\n",
    "dataset = gpd.sjoin(ch_muni[['NAME','TYP_00','geometry']],dat_2,how='right')\n",
    "dataset.drop('index_left', axis=1, inplace=True)\n",
    "\n",
    "dataset['Agglo_Name'] = dataset.Agglo_Name.fillna('Rural')\n",
    "dataset['Rich_Nabr']  = dataset['TYP_00'].map(lambda x: 'R' if x == 'Einkommensstarke Gemeinden (RE)' else 'NR')\n",
    "dataset['tprsn']      = ((dataset.taxable_income* 10**6) / dataset.taxable_income_ptp).round(0)"
   ]
  },
  {
   "cell_type": "code",
   "execution_count": 15,
   "metadata": {},
   "outputs": [
    {
     "name": "stdout",
     "output_type": "stream",
     "text": [
      "<class 'geopandas.geodataframe.GeoDataFrame'>\n",
      "Index: 3299410 entries, {000001BB-9927-4513-8016-85310A32D70C} to {FFF90A28-E849-4B5C-97E5-9EC3BE839FC3}\n",
      "Data columns (total 84 columns):\n",
      " #   Column              Dtype   \n",
      "---  ------              -----   \n",
      " 0   NAME                object  \n",
      " 1   TYP_00              object  \n",
      " 2   net_income          float64 \n",
      " 3   net_income_ptp      float64 \n",
      " 4   taxable_income      float64 \n",
      " 5   taxable_income_ptp  float64 \n",
      " 6   deductions          float64 \n",
      " 7   deductions_ptp      float64 \n",
      " 8   deductPCT           float64 \n",
      " 9   GMDNAME             object  \n",
      " 10  GMDNR               float64 \n",
      " 11  KTNR                float64 \n",
      " 12  AREA_HA             float64 \n",
      " 13  Name                object  \n",
      " 14  Agglo_Name          object  \n",
      " 15  maxvsh_Abb7         float64 \n",
      " 16  maxvsh_Abw14        float64 \n",
      " 17  maxvsh_Dac1         float64 \n",
      " 18  maxvsh_Fas2         float64 \n",
      " 19  maxvsh_Flu18        float64 \n",
      " 20  maxvsh_Geb12        float64 \n",
      " 21  maxvsh_Gew1         float64 \n",
      " 22  maxvsh_Hel19        float64 \n",
      " 23  maxvsh_Keh15        float64 \n",
      " 24  maxvsh_Kue8         float64 \n",
      " 25  maxvsh_Lan10        float64 \n",
      " 26  maxvsh_Lan17        float64 \n",
      " 27  maxvsh_Nat3         float64 \n",
      " 28  maxvsh_Sak13        float64 \n",
      " 29  maxvsh_Sie9         float64 \n",
      " 30  maxvsh_Ueb5         float64 \n",
      " 31  maxvsh_Veg3         float64 \n",
      " 32  maxvsh_Ver11        float64 \n",
      " 33  maxvsh_Ver6         float64 \n",
      " 34  maxvsh_Was16        float64 \n",
      " 35  maxvsh_sky          float64 \n",
      " 36  vwa_Abb7            float64 \n",
      " 37  vwa_Abw14           float64 \n",
      " 38  vwa_Dac1            float64 \n",
      " 39  vwa_Fas2            float64 \n",
      " 40  vwa_Flu18           float64 \n",
      " 41  vwa_Geb12           float64 \n",
      " 42  vwa_Gew1            float64 \n",
      " 43  vwa_Hel19           float64 \n",
      " 44  vwa_Keh15           float64 \n",
      " 45  vwa_Kue8            float64 \n",
      " 46  vwa_Lan10           float64 \n",
      " 47  vwa_Lan17           float64 \n",
      " 48  vwa_Nat3            float64 \n",
      " 49  vwa_Sak13           float64 \n",
      " 50  vwa_Sie9            float64 \n",
      " 51  vwa_Ueb5            float64 \n",
      " 52  vwa_Veg3            float64 \n",
      " 53  vwa_Ver11           float64 \n",
      " 54  vwa_Ver6            float64 \n",
      " 55  vwa_Was16           float64 \n",
      " 56  vwa_sky             float64 \n",
      " 57  snt_0               float64 \n",
      " 58  snt_Neg             float64 \n",
      " 59  snt_Pos             float64 \n",
      " 60  rh_snt_0            int64   \n",
      " 61  rh_snt_Neg          int64   \n",
      " 62  rh_snt_Pos          int64   \n",
      " 63  sum_ShFer3          float64 \n",
      " 64  sum_ShMit2          float64 \n",
      " 65  sum_ShNah1          float64 \n",
      " 66  sum_ShUne4          float64 \n",
      " 67  sum_ShSky           float64 \n",
      " 68  dist_gini           float64 \n",
      " 69  pano_sum            float64 \n",
      " 70  pano_rich           int64   \n",
      " 71  refuge              float64 \n",
      " 72  unit_pano           float64 \n",
      " 73  cmpx_rh             int64   \n",
      " 74  cmpx_shanon         float64 \n",
      " 75  cmpx_gini           float64 \n",
      " 76  FassPktX            float64 \n",
      " 77  FassPktY            float64 \n",
      " 78  FassPktZ            float64 \n",
      " 79  Stockwerk           float64 \n",
      " 80  geometry            geometry\n",
      " 81  dist                float64 \n",
      " 82  Rich_Nabr           object  \n",
      " 83  tprsn               float64 \n",
      "dtypes: float64(72), geometry(1), int64(5), object(6)\n",
      "memory usage: 2.2+ GB\n"
     ]
    }
   ],
   "source": [
    "dataset.info() # option to slim down"
   ]
  },
  {
   "cell_type": "code",
   "execution_count": 16,
   "metadata": {},
   "outputs": [],
   "source": [
    "dataset.to_pickle('../../geodata/results/01_master_building_dataset.pkl')"
   ]
  },
  {
   "cell_type": "code",
   "execution_count": null,
   "metadata": {},
   "outputs": [],
   "source": []
  }
 ],
 "metadata": {
  "kernelspec": {
   "display_name": "env_intel_sdb",
   "language": "python",
   "name": "python3"
  },
  "language_info": {
   "codemirror_mode": {
    "name": "ipython",
    "version": 3
   },
   "file_extension": ".py",
   "mimetype": "text/x-python",
   "name": "python",
   "nbconvert_exporter": "python",
   "pygments_lexer": "ipython3",
   "version": "3.10.9"
  },
  "orig_nbformat": 4
 },
 "nbformat": 4,
 "nbformat_minor": 2
}
